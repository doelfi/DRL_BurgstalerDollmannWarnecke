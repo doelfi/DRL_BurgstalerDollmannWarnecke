{
 "cells": [
  {
   "attachments": {},
   "cell_type": "markdown",
   "metadata": {},
   "source": [
    "## Task 01\n",
    "\n",
    "Convergence of a Geometric Series: $\\frac{a}{1-r}$ with $\\sum{ar^k}$\n"
   ]
  },
  {
   "cell_type": "code",
   "execution_count": 4,
   "metadata": {},
   "outputs": [],
   "source": [
    "import numpy as np\n",
    "\n",
    "class Lazy():\n",
    "    def __init__(self):\n",
    "        # Start action, 0 = chores, 1 = fun\n",
    "        if np.random.rand(0,1)<0.5:\n",
    "            self.action = 0\n",
    "        else:\n",
    "            self.action = 1\n",
    "\n",
    "    def policy(self):\n",
    "        if np.random.rand() > 0.95:\n",
    "            if self.action == 0:\n",
    "                self.action = 1\n",
    "            else:\n",
    "                self.action = 0\n",
    "        else:\n",
    "            self.action = self.action"
   ]
  },
  {
   "cell_type": "code",
   "execution_count": 3,
   "metadata": {},
   "outputs": [
    {
     "data": {
      "text/plain": [
       "0.41785599437704"
      ]
     },
     "execution_count": 3,
     "metadata": {},
     "output_type": "execute_result"
    }
   ],
   "source": [
    "import numpy as np\n",
    "np.random.rand()"
   ]
  },
  {
   "cell_type": "code",
   "execution_count": null,
   "metadata": {},
   "outputs": [],
   "source": []
  }
 ],
 "metadata": {
  "kernelspec": {
   "display_name": "base",
   "language": "python",
   "name": "python3"
  },
  "language_info": {
   "codemirror_mode": {
    "name": "ipython",
    "version": 3
   },
   "file_extension": ".py",
   "mimetype": "text/x-python",
   "name": "python",
   "nbconvert_exporter": "python",
   "pygments_lexer": "ipython3",
   "version": "3.9.13"
  },
  "orig_nbformat": 4
 },
 "nbformat": 4,
 "nbformat_minor": 2
}
